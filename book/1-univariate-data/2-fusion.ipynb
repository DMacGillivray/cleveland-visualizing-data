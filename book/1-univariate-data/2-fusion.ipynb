{
 "cells": [
  {
   "cell_type": "markdown",
   "id": "7ee28c8f-dc11-472d-a444-ac8d9159bb39",
   "metadata": {},
   "source": [
    "# Python Companion to *Visualizing Data by William S. Cleveland* with plotnine and pandas\n",
    "## Chapter 2 - Univariate Data - Section 2.6\n",
    "#### Dataset: Fusion Times for Stereograms\n",
    "\n",
    "#### Contents\n",
    "\n",
    "+ Setup, Data Preparation\n",
    "+ Introduction\n",
    "+ 2.6 Log Transformations"
   ]
  },
  {
   "cell_type": "markdown",
   "id": "81488353-0542-40a1-b726-7f1bea82f35b",
   "metadata": {},
   "source": [
    "---"
   ]
  },
  {
   "cell_type": "markdown",
   "id": "4c05ef2d-bf62-4e63-a932-fa5ba2802a74",
   "metadata": {},
   "source": [
    "# Setup, Data Preparation"
   ]
  },
  {
   "cell_type": "markdown",
   "id": "4782e743-c3f8-4129-b755-b36c93bf4240",
   "metadata": {},
   "source": [
    "### Imports"
   ]
  },
  {
   "cell_type": "code",
   "execution_count": 1,
   "id": "de24977f-a90e-44ba-bc0d-abee1da9c9fa",
   "metadata": {},
   "outputs": [
    {
     "name": "stdout",
     "output_type": "stream",
     "text": [
      "/home/david/mambaforge/envs/cleveland/bin/python\n"
     ]
    }
   ],
   "source": [
    "# Setup function to print major versions - similar to movingpandas\n",
    "!which python"
   ]
  },
  {
   "cell_type": "code",
   "execution_count": 2,
   "id": "44a1e82f-5603-4de7-bf84-1d749bf20d1e",
   "metadata": {},
   "outputs": [],
   "source": [
    "import os\n",
    "import math\n",
    "from pathlib import Path\n",
    "\n",
    "import pandas as pd\n",
    "from pandas.api.types import CategoricalDtype\n",
    "import numpy as np\n",
    "import plotnine\n",
    "from plotnine import *\n",
    "# import matplotlib.pyplot as plt\n",
    "import rpy2\n",
    "from scipy.stats import norm, probplot"
   ]
  },
  {
   "cell_type": "markdown",
   "id": "b8396be9-5cf7-4160-bbe6-8765797676b3",
   "metadata": {},
   "source": [
    "### Defaults"
   ]
  },
  {
   "cell_type": "code",
   "execution_count": 3,
   "id": "d9460bb5-325b-4b6a-aca8-cc93e2ee2204",
   "metadata": {},
   "outputs": [],
   "source": [
    "# plotnine.themes.theme_set(theme_bw())\n",
    "plotnine.options.current_theme=theme_bw()\n",
    "plotnine.options.figure_size=(4, 4)\n",
    "pd.set_option('display.max_columns', 100)"
   ]
  },
  {
   "cell_type": "markdown",
   "id": "033803fc-4a2a-4230-ae0f-aa73166b42aa",
   "metadata": {},
   "source": [
    "### Data Directory"
   ]
  },
  {
   "cell_type": "code",
   "execution_count": 4,
   "id": "0e15098a-d563-4737-8491-85d0cf5a130a",
   "metadata": {},
   "outputs": [
    {
     "data": {
      "text/plain": [
       "PosixPath('/media/david/T7/code/cleveland-visualizing-data/book/data')"
      ]
     },
     "execution_count": 4,
     "metadata": {},
     "output_type": "execute_result"
    }
   ],
   "source": [
    "%load_ext dotenv\n",
    "%dotenv\n",
    "PROJECT_DIR=Path(os.environ.get('PROJECT_DIR'))\n",
    "DATA_DIR = PROJECT_DIR / 'book' / 'data'\n",
    "DATA_DIR_STR = str(DATA_DIR)\n",
    "DATA_DIR"
   ]
  },
  {
   "cell_type": "markdown",
   "id": "99e64a6d-3636-451b-aeb1-4e38849a475b",
   "metadata": {},
   "source": [
    "## Get the Data from the R `lattice` package"
   ]
  },
  {
   "cell_type": "code",
   "execution_count": 5,
   "id": "e93d5406-5acf-47fa-b59a-be9937e686d2",
   "metadata": {},
   "outputs": [
    {
     "name": "stderr",
     "output_type": "stream",
     "text": [
      "Warning: namespace ‘pbdZMQ’ is not available and has been replaced\n",
      "by .GlobalEnv when processing object ‘.pbd_env’\n"
     ]
    }
   ],
   "source": [
    "%load_ext rpy2.ipython"
   ]
  },
  {
   "cell_type": "code",
   "execution_count": 6,
   "id": "62eeaeca-ae17-4683-a7b8-13e41e49daa2",
   "metadata": {},
   "outputs": [],
   "source": [
    "%%R -i DATA_DIR_STR\n",
    "library(ggcleveland)\n",
    "data <- fusion\n",
    "filepath <- paste0(DATA_DIR_STR, \"/\" , \"fusion.csv\")\n",
    "write.csv(fusion, filepath, row.names=FALSE)"
   ]
  },
  {
   "cell_type": "markdown",
   "id": "3682582c-cbc4-471b-8fff-0484d5863fda",
   "metadata": {},
   "source": [
    "## Load the Data and setup datatypes"
   ]
  },
  {
   "cell_type": "code",
   "execution_count": 7,
   "id": "cc50749a-8a82-4619-925a-7e8ed8169f99",
   "metadata": {},
   "outputs": [
    {
     "data": {
      "text/html": [
       "<div>\n",
       "<style scoped>\n",
       "    .dataframe tbody tr th:only-of-type {\n",
       "        vertical-align: middle;\n",
       "    }\n",
       "\n",
       "    .dataframe tbody tr th {\n",
       "        vertical-align: top;\n",
       "    }\n",
       "\n",
       "    .dataframe thead th {\n",
       "        text-align: right;\n",
       "    }\n",
       "</style>\n",
       "<table border=\"1\" class=\"dataframe\">\n",
       "  <thead>\n",
       "    <tr style=\"text-align: right;\">\n",
       "      <th></th>\n",
       "      <th>time</th>\n",
       "      <th>nv.vv</th>\n",
       "    </tr>\n",
       "  </thead>\n",
       "  <tbody>\n",
       "    <tr>\n",
       "      <th>0</th>\n",
       "      <td>47.20001</td>\n",
       "      <td>NV</td>\n",
       "    </tr>\n",
       "    <tr>\n",
       "      <th>1</th>\n",
       "      <td>21.99998</td>\n",
       "      <td>NV</td>\n",
       "    </tr>\n",
       "    <tr>\n",
       "      <th>2</th>\n",
       "      <td>20.39999</td>\n",
       "      <td>NV</td>\n",
       "    </tr>\n",
       "    <tr>\n",
       "      <th>3</th>\n",
       "      <td>19.70001</td>\n",
       "      <td>NV</td>\n",
       "    </tr>\n",
       "    <tr>\n",
       "      <th>4</th>\n",
       "      <td>17.40000</td>\n",
       "      <td>NV</td>\n",
       "    </tr>\n",
       "  </tbody>\n",
       "</table>\n",
       "</div>"
      ],
      "text/plain": [
       "       time nv.vv\n",
       "0  47.20001    NV\n",
       "1  21.99998    NV\n",
       "2  20.39999    NV\n",
       "3  19.70001    NV\n",
       "4  17.40000    NV"
      ]
     },
     "execution_count": 7,
     "metadata": {},
     "output_type": "execute_result"
    }
   ],
   "source": [
    "df_orig = pd.read_csv(DATA_DIR / \"fusion.csv\")\n",
    "# df_orig = df_orig.rename(columns={\"voice.part\": \"voice_part\"})\n",
    "# pitch_order = ['Bass 2', 'Bass 1', 'Tenor 2', 'Tenor 1', 'Alto 2', 'Alto 1', 'Soprano 2', 'Soprano 1']\n",
    "# cat_type=CategoricalDtype(categories=pitch_order, ordered=True)\n",
    "# df_orig['voice_part'] = df_orig['voice_part'].astype(cat_type)\n",
    "df_orig.head()"
   ]
  },
  {
   "cell_type": "markdown",
   "id": "c63ce63d-2519-40f6-8215-deed9619a0fd",
   "metadata": {},
   "source": [
    "## Profile the Data"
   ]
  },
  {
   "cell_type": "code",
   "execution_count": 8,
   "id": "e2055b63-8fdf-45f8-8162-969862e12b50",
   "metadata": {},
   "outputs": [
    {
     "data": {
      "text/plain": [
       "time     0\n",
       "nv.vv    0\n",
       "dtype: int64"
      ]
     },
     "execution_count": 8,
     "metadata": {},
     "output_type": "execute_result"
    }
   ],
   "source": [
    "df_orig.isna().sum()"
   ]
  },
  {
   "cell_type": "code",
   "execution_count": 9,
   "id": "9e391177-6210-4f05-93b7-effa6d4de0fe",
   "metadata": {},
   "outputs": [
    {
     "data": {
      "text/html": [
       "<div>\n",
       "<style scoped>\n",
       "    .dataframe tbody tr th:only-of-type {\n",
       "        vertical-align: middle;\n",
       "    }\n",
       "\n",
       "    .dataframe tbody tr th {\n",
       "        vertical-align: top;\n",
       "    }\n",
       "\n",
       "    .dataframe thead tr th {\n",
       "        text-align: left;\n",
       "    }\n",
       "\n",
       "    .dataframe thead tr:last-of-type th {\n",
       "        text-align: right;\n",
       "    }\n",
       "</style>\n",
       "<table border=\"1\" class=\"dataframe\">\n",
       "  <thead>\n",
       "    <tr>\n",
       "      <th></th>\n",
       "      <th colspan=\"8\" halign=\"left\">time</th>\n",
       "    </tr>\n",
       "    <tr>\n",
       "      <th></th>\n",
       "      <th>count</th>\n",
       "      <th>mean</th>\n",
       "      <th>std</th>\n",
       "      <th>min</th>\n",
       "      <th>25%</th>\n",
       "      <th>50%</th>\n",
       "      <th>75%</th>\n",
       "      <th>max</th>\n",
       "    </tr>\n",
       "    <tr>\n",
       "      <th>nv.vv</th>\n",
       "      <th></th>\n",
       "      <th></th>\n",
       "      <th></th>\n",
       "      <th></th>\n",
       "      <th></th>\n",
       "      <th></th>\n",
       "      <th></th>\n",
       "      <th></th>\n",
       "    </tr>\n",
       "  </thead>\n",
       "  <tbody>\n",
       "    <tr>\n",
       "      <th>NV</th>\n",
       "      <td>43.0</td>\n",
       "      <td>8.560465</td>\n",
       "      <td>8.085412</td>\n",
       "      <td>1.7</td>\n",
       "      <td>3.10</td>\n",
       "      <td>6.9</td>\n",
       "      <td>10.00</td>\n",
       "      <td>47.20001</td>\n",
       "    </tr>\n",
       "    <tr>\n",
       "      <th>VV</th>\n",
       "      <td>35.0</td>\n",
       "      <td>5.551429</td>\n",
       "      <td>4.801739</td>\n",
       "      <td>1.0</td>\n",
       "      <td>2.15</td>\n",
       "      <td>3.6</td>\n",
       "      <td>6.85</td>\n",
       "      <td>19.70001</td>\n",
       "    </tr>\n",
       "  </tbody>\n",
       "</table>\n",
       "</div>"
      ],
      "text/plain": [
       "       time                                                     \n",
       "      count      mean       std  min   25%  50%    75%       max\n",
       "nv.vv                                                           \n",
       "NV     43.0  8.560465  8.085412  1.7  3.10  6.9  10.00  47.20001\n",
       "VV     35.0  5.551429  4.801739  1.0  2.15  3.6   6.85  19.70001"
      ]
     },
     "execution_count": 9,
     "metadata": {},
     "output_type": "execute_result"
    }
   ],
   "source": [
    "profile = df_orig.groupby(by='nv.vv').describe()\n",
    "profile"
   ]
  },
  {
   "cell_type": "code",
   "execution_count": 10,
   "id": "fcb047b5-4465-4d0b-895c-625c4f0d6e76",
   "metadata": {},
   "outputs": [
    {
     "data": {
      "text/html": [
       "<div>\n",
       "<style scoped>\n",
       "    .dataframe tbody tr th:only-of-type {\n",
       "        vertical-align: middle;\n",
       "    }\n",
       "\n",
       "    .dataframe tbody tr th {\n",
       "        vertical-align: top;\n",
       "    }\n",
       "\n",
       "    .dataframe thead th {\n",
       "        text-align: right;\n",
       "    }\n",
       "</style>\n",
       "<table border=\"1\" class=\"dataframe\">\n",
       "  <thead>\n",
       "    <tr style=\"text-align: right;\">\n",
       "      <th></th>\n",
       "      <th>time</th>\n",
       "      <th>nv.vv</th>\n",
       "    </tr>\n",
       "  </thead>\n",
       "  <tbody>\n",
       "    <tr>\n",
       "      <th>0</th>\n",
       "      <td>47.20001</td>\n",
       "      <td>NV</td>\n",
       "    </tr>\n",
       "    <tr>\n",
       "      <th>1</th>\n",
       "      <td>21.99998</td>\n",
       "      <td>NV</td>\n",
       "    </tr>\n",
       "    <tr>\n",
       "      <th>2</th>\n",
       "      <td>20.39999</td>\n",
       "      <td>NV</td>\n",
       "    </tr>\n",
       "    <tr>\n",
       "      <th>3</th>\n",
       "      <td>19.70001</td>\n",
       "      <td>NV</td>\n",
       "    </tr>\n",
       "    <tr>\n",
       "      <th>4</th>\n",
       "      <td>17.40000</td>\n",
       "      <td>NV</td>\n",
       "    </tr>\n",
       "  </tbody>\n",
       "</table>\n",
       "</div>"
      ],
      "text/plain": [
       "       time nv.vv\n",
       "0  47.20001    NV\n",
       "1  21.99998    NV\n",
       "2  20.39999    NV\n",
       "3  19.70001    NV\n",
       "4  17.40000    NV"
      ]
     },
     "execution_count": 10,
     "metadata": {},
     "output_type": "execute_result"
    }
   ],
   "source": [
    "df_orig.head()"
   ]
  },
  {
   "cell_type": "markdown",
   "id": "f4898c10-b386-424c-8615-c3e99014e99a",
   "metadata": {},
   "source": [
    "---"
   ]
  },
  {
   "cell_type": "markdown",
   "id": "3ad834c8-c160-4367-a9d0-55b41906a211",
   "metadata": {},
   "source": [
    "# Introduction\n",
    "About the data:\n",
    "+ [fusion: Fusion times for random dot sterograms in ggcleveland](https://cran.r-project.org/web/packages/ggcleveland/ggcleveland.pdf)\n",
    "+ [Stereogram: DASL - The Data and Story Library](https://dasl.datadescription.com/datafiles/?_sf_s=Stereogram&_sfm_cases=4+59943)\n",
    "+ Experiment to determine the effect of prior knowledge of an object's form on fusion time.\n",
    "\n",
    "## Analysis Question\n",
    "Is there a difference between the two groups?"
   ]
  },
  {
   "cell_type": "markdown",
   "id": "8243daca-404a-4eee-8d04-99cef8fd34e6",
   "metadata": {},
   "source": [
    "---"
   ]
  },
  {
   "cell_type": "markdown",
   "id": "315ef1a9-7c43-4583-98fa-9e0d44352fce",
   "metadata": {},
   "source": [
    "# Section 2.6 Log Transformations"
   ]
  },
  {
   "cell_type": "markdown",
   "id": "f8a67378-763b-425f-9260-ce678d18420f",
   "metadata": {},
   "source": [
    "## 2.6 - Fig 2.19 Quantile Plots"
   ]
  },
  {
   "cell_type": "code",
   "execution_count": null,
   "id": "f3bb3bad-1198-4430-a021-ce96451682c8",
   "metadata": {},
   "outputs": [],
   "source": []
  },
  {
   "cell_type": "code",
   "execution_count": null,
   "id": "65a7bba0-5622-49a7-8fa5-6baf8bba94a4",
   "metadata": {},
   "outputs": [],
   "source": []
  },
  {
   "cell_type": "code",
   "execution_count": null,
   "id": "821e5294-5307-4f74-b818-a3b539682139",
   "metadata": {},
   "outputs": [],
   "source": []
  },
  {
   "cell_type": "code",
   "execution_count": null,
   "id": "8861a8ce-1eba-4658-a505-3a8b7d88af15",
   "metadata": {},
   "outputs": [],
   "source": []
  },
  {
   "cell_type": "code",
   "execution_count": null,
   "id": "45ec8a70-7f74-43a5-baa7-84930d06adca",
   "metadata": {},
   "outputs": [],
   "source": []
  },
  {
   "cell_type": "code",
   "execution_count": null,
   "id": "bb7031e0-df50-4dfe-a712-fea31b5275ce",
   "metadata": {},
   "outputs": [],
   "source": []
  },
  {
   "cell_type": "code",
   "execution_count": null,
   "id": "3979fee9-455c-40d4-b7d4-f7ef8bc3e32c",
   "metadata": {},
   "outputs": [],
   "source": []
  },
  {
   "cell_type": "code",
   "execution_count": null,
   "id": "d744d8d8-70bc-4c97-9696-17ce5162eba6",
   "metadata": {},
   "outputs": [],
   "source": []
  },
  {
   "cell_type": "code",
   "execution_count": null,
   "id": "87a820ff-0035-4c36-b6fa-895a357ccf9f",
   "metadata": {},
   "outputs": [],
   "source": []
  },
  {
   "cell_type": "code",
   "execution_count": null,
   "id": "b74cc700-b3b7-4dd4-b7d1-d55fb9a9362e",
   "metadata": {},
   "outputs": [],
   "source": []
  },
  {
   "cell_type": "code",
   "execution_count": null,
   "id": "b43e38b2-c616-4840-8940-d9cb192c3c4a",
   "metadata": {},
   "outputs": [],
   "source": []
  },
  {
   "cell_type": "code",
   "execution_count": null,
   "id": "30315855-1e27-469d-9745-279980e45e15",
   "metadata": {},
   "outputs": [],
   "source": []
  },
  {
   "cell_type": "code",
   "execution_count": null,
   "id": "9e7d4368-f989-4e64-8325-bb1b8e2f2c0f",
   "metadata": {},
   "outputs": [],
   "source": []
  },
  {
   "cell_type": "code",
   "execution_count": null,
   "id": "ff22356b-bddb-4f13-b1b5-38bf1e45d713",
   "metadata": {},
   "outputs": [],
   "source": []
  },
  {
   "cell_type": "code",
   "execution_count": null,
   "id": "a929f9f7-4dc4-43fb-9509-71b5f2a291a7",
   "metadata": {},
   "outputs": [],
   "source": []
  },
  {
   "cell_type": "code",
   "execution_count": null,
   "id": "bda49009-3b38-4c4c-9270-2fd7206252fd",
   "metadata": {},
   "outputs": [],
   "source": []
  },
  {
   "cell_type": "code",
   "execution_count": null,
   "id": "49aa3ea1-c2f0-42ce-823f-10bff19f56cc",
   "metadata": {},
   "outputs": [],
   "source": []
  },
  {
   "cell_type": "code",
   "execution_count": null,
   "id": "56c88f3e-2365-4dd3-9181-fc64883c39fe",
   "metadata": {},
   "outputs": [],
   "source": []
  },
  {
   "cell_type": "code",
   "execution_count": null,
   "id": "79d9e286-0660-40cd-b760-fc3f5d7e0822",
   "metadata": {},
   "outputs": [],
   "source": []
  },
  {
   "cell_type": "code",
   "execution_count": null,
   "id": "5603b901-9b64-4118-9fd2-2374e24d16aa",
   "metadata": {},
   "outputs": [],
   "source": []
  },
  {
   "cell_type": "code",
   "execution_count": null,
   "id": "792073e5-2b4e-465f-802f-7a9ad03902de",
   "metadata": {},
   "outputs": [],
   "source": []
  },
  {
   "cell_type": "code",
   "execution_count": null,
   "id": "6603fa27-9b67-4de5-975b-35512a1b9506",
   "metadata": {},
   "outputs": [],
   "source": []
  },
  {
   "cell_type": "code",
   "execution_count": null,
   "id": "b68f6eb1-b617-41d8-b1e1-9b7291b14bb4",
   "metadata": {},
   "outputs": [],
   "source": []
  },
  {
   "cell_type": "code",
   "execution_count": null,
   "id": "f13348e3-f8ae-42ad-9fec-16851d17235b",
   "metadata": {},
   "outputs": [],
   "source": []
  },
  {
   "cell_type": "code",
   "execution_count": null,
   "id": "f9bf844d-e3fc-4bc8-b3ea-dfacecedb90b",
   "metadata": {},
   "outputs": [],
   "source": []
  },
  {
   "cell_type": "code",
   "execution_count": null,
   "id": "300a2607-99cc-4466-9c32-308af14e3e12",
   "metadata": {},
   "outputs": [],
   "source": []
  },
  {
   "cell_type": "code",
   "execution_count": null,
   "id": "7de23a53-5fa3-486e-bf90-bb166188ec9f",
   "metadata": {},
   "outputs": [],
   "source": []
  },
  {
   "cell_type": "code",
   "execution_count": null,
   "id": "668e2532-cd9e-4b3a-a17b-7e393fc54ee5",
   "metadata": {},
   "outputs": [],
   "source": []
  },
  {
   "cell_type": "code",
   "execution_count": null,
   "id": "d452b322-96a5-4074-9448-efbb45ad6264",
   "metadata": {},
   "outputs": [],
   "source": []
  },
  {
   "cell_type": "code",
   "execution_count": null,
   "id": "a8e73838-3082-46b1-9c7e-a986ad0933a1",
   "metadata": {},
   "outputs": [],
   "source": []
  },
  {
   "cell_type": "code",
   "execution_count": null,
   "id": "faacbafd-a152-43d4-9d67-094f26916ef9",
   "metadata": {},
   "outputs": [],
   "source": []
  },
  {
   "cell_type": "code",
   "execution_count": null,
   "id": "23d45752-6b63-42c4-ac32-0ddfd2503c8e",
   "metadata": {},
   "outputs": [],
   "source": []
  },
  {
   "cell_type": "code",
   "execution_count": null,
   "id": "cc1ee580-aef3-4c7f-8362-17a84882a5da",
   "metadata": {},
   "outputs": [],
   "source": []
  },
  {
   "cell_type": "code",
   "execution_count": null,
   "id": "9459446a-f14d-4eb2-8064-950991a961bf",
   "metadata": {},
   "outputs": [],
   "source": []
  },
  {
   "cell_type": "code",
   "execution_count": null,
   "id": "0c8fb1ab-35ac-41bf-8109-7a6ed075003e",
   "metadata": {},
   "outputs": [],
   "source": []
  },
  {
   "cell_type": "code",
   "execution_count": null,
   "id": "9764cf58-e51b-4b73-993c-480e0cbd5f17",
   "metadata": {},
   "outputs": [],
   "source": []
  },
  {
   "cell_type": "code",
   "execution_count": null,
   "id": "8f0587a4-c4bb-478e-94d9-ad66bc028302",
   "metadata": {},
   "outputs": [],
   "source": []
  },
  {
   "cell_type": "code",
   "execution_count": null,
   "id": "64674a05-1570-47cd-8535-875b87e7773f",
   "metadata": {},
   "outputs": [],
   "source": []
  },
  {
   "cell_type": "code",
   "execution_count": null,
   "id": "6c77f640-fc50-44cf-a693-8a61ea9a5c9f",
   "metadata": {},
   "outputs": [],
   "source": []
  },
  {
   "cell_type": "code",
   "execution_count": null,
   "id": "88f0fc95-d10c-46d6-b8b7-176a60ece4ec",
   "metadata": {},
   "outputs": [],
   "source": []
  },
  {
   "cell_type": "code",
   "execution_count": null,
   "id": "4d1794c2-ad63-4f39-a01e-b842e70aede8",
   "metadata": {},
   "outputs": [],
   "source": []
  },
  {
   "cell_type": "code",
   "execution_count": null,
   "id": "baa2d239-3609-4ec8-864e-5e3ea0f62b50",
   "metadata": {},
   "outputs": [],
   "source": []
  },
  {
   "cell_type": "code",
   "execution_count": null,
   "id": "5b6325e1-2bf6-4140-8ed3-366acb083750",
   "metadata": {},
   "outputs": [],
   "source": []
  },
  {
   "cell_type": "code",
   "execution_count": null,
   "id": "3031fc24-17e1-4030-a47b-a78bcafd4288",
   "metadata": {},
   "outputs": [],
   "source": []
  },
  {
   "cell_type": "code",
   "execution_count": null,
   "id": "43815e18-da0c-4081-a943-49249a5de556",
   "metadata": {},
   "outputs": [],
   "source": []
  },
  {
   "cell_type": "code",
   "execution_count": null,
   "id": "cac2e5ef-22a4-477f-9083-a049b29ead08",
   "metadata": {},
   "outputs": [],
   "source": []
  },
  {
   "cell_type": "code",
   "execution_count": null,
   "id": "cb1a2a3c-d38e-4f7a-80c3-2986e170af97",
   "metadata": {},
   "outputs": [],
   "source": []
  },
  {
   "cell_type": "code",
   "execution_count": null,
   "id": "23a43f3a-a7c2-4960-bfc4-e2b1d01d54ad",
   "metadata": {},
   "outputs": [],
   "source": []
  },
  {
   "cell_type": "code",
   "execution_count": null,
   "id": "d75e2508-2d33-45e9-947e-c526d2e9355e",
   "metadata": {},
   "outputs": [],
   "source": []
  },
  {
   "cell_type": "code",
   "execution_count": null,
   "id": "552c9678-904b-450f-ba03-06e0d0a5627c",
   "metadata": {},
   "outputs": [],
   "source": []
  },
  {
   "cell_type": "code",
   "execution_count": null,
   "id": "289455b5-9eab-4356-ad51-b2ead5900973",
   "metadata": {},
   "outputs": [],
   "source": []
  },
  {
   "cell_type": "code",
   "execution_count": null,
   "id": "48ec418d-6b27-4e0c-9361-c460743bb315",
   "metadata": {},
   "outputs": [],
   "source": []
  },
  {
   "cell_type": "code",
   "execution_count": null,
   "id": "f29195c9-b324-4bcb-a213-de24369ebb9b",
   "metadata": {},
   "outputs": [],
   "source": []
  },
  {
   "cell_type": "code",
   "execution_count": null,
   "id": "63690b9e-4229-4e01-bf29-b9be2b827e42",
   "metadata": {},
   "outputs": [],
   "source": []
  },
  {
   "cell_type": "code",
   "execution_count": null,
   "id": "212ac39d-97c2-4f13-85c7-a096efee5ec7",
   "metadata": {},
   "outputs": [],
   "source": []
  },
  {
   "cell_type": "code",
   "execution_count": null,
   "id": "8c3513ac-0a83-4a95-8fde-b1aad4120522",
   "metadata": {},
   "outputs": [],
   "source": []
  },
  {
   "cell_type": "code",
   "execution_count": null,
   "id": "c4619132-509a-496c-9499-5675e551ed3f",
   "metadata": {},
   "outputs": [],
   "source": []
  },
  {
   "cell_type": "code",
   "execution_count": null,
   "id": "ec0439af-d98d-440f-8f1e-569ae81b5e4b",
   "metadata": {},
   "outputs": [],
   "source": []
  },
  {
   "cell_type": "code",
   "execution_count": null,
   "id": "4b1887ec-37a5-4646-bf9a-647cd3cb3122",
   "metadata": {},
   "outputs": [],
   "source": []
  },
  {
   "cell_type": "code",
   "execution_count": null,
   "id": "174946cd-fde8-41d3-a2e1-3aed4846a032",
   "metadata": {},
   "outputs": [],
   "source": []
  },
  {
   "cell_type": "code",
   "execution_count": null,
   "id": "230eef1d-55d2-47f1-ab4d-ff22793ff62b",
   "metadata": {},
   "outputs": [],
   "source": []
  },
  {
   "cell_type": "code",
   "execution_count": null,
   "id": "5c846276-5ca0-4369-aa15-ac7a15c3c3a9",
   "metadata": {},
   "outputs": [],
   "source": []
  },
  {
   "cell_type": "code",
   "execution_count": null,
   "id": "74a4b30f-3a52-40b1-8623-387f7214d91d",
   "metadata": {},
   "outputs": [],
   "source": []
  },
  {
   "cell_type": "code",
   "execution_count": null,
   "id": "82ed4e04-f62b-4d58-b1b2-9cb54b39e52b",
   "metadata": {},
   "outputs": [],
   "source": []
  },
  {
   "cell_type": "code",
   "execution_count": null,
   "id": "208f9b62-1ba3-41ab-9a06-a1318fd0e3d4",
   "metadata": {},
   "outputs": [],
   "source": []
  },
  {
   "cell_type": "code",
   "execution_count": null,
   "id": "0a9fa82f-1cb6-4a60-8a72-d397b2682978",
   "metadata": {},
   "outputs": [],
   "source": []
  },
  {
   "cell_type": "code",
   "execution_count": null,
   "id": "6b042ea9-cc1b-4ca7-9ff5-a5f22a2785a7",
   "metadata": {},
   "outputs": [],
   "source": []
  },
  {
   "cell_type": "code",
   "execution_count": null,
   "id": "bfa9fbb4-a1ae-4f98-baab-877544c66104",
   "metadata": {},
   "outputs": [],
   "source": []
  },
  {
   "cell_type": "code",
   "execution_count": null,
   "id": "c739201c-bff7-4241-a879-bb0b0a8c6e0b",
   "metadata": {},
   "outputs": [],
   "source": []
  },
  {
   "cell_type": "code",
   "execution_count": null,
   "id": "97976f81-c147-4205-b875-15145ae5b509",
   "metadata": {},
   "outputs": [],
   "source": []
  },
  {
   "cell_type": "code",
   "execution_count": null,
   "id": "85ac76fa-44d6-4584-b54c-12db28aa55cd",
   "metadata": {},
   "outputs": [],
   "source": []
  },
  {
   "cell_type": "code",
   "execution_count": null,
   "id": "2d3a219c-31cc-4f5b-9037-6464775ec31a",
   "metadata": {},
   "outputs": [],
   "source": []
  },
  {
   "cell_type": "code",
   "execution_count": null,
   "id": "7d15544f-c90b-4ad7-8851-b78573ddb8fc",
   "metadata": {},
   "outputs": [],
   "source": []
  },
  {
   "cell_type": "code",
   "execution_count": null,
   "id": "60c154c4-9b92-45e6-bdcf-a4395ee54f83",
   "metadata": {},
   "outputs": [],
   "source": []
  },
  {
   "cell_type": "code",
   "execution_count": null,
   "id": "e45870fd-cbc5-437e-9034-a97a64370fdc",
   "metadata": {},
   "outputs": [],
   "source": []
  },
  {
   "cell_type": "code",
   "execution_count": null,
   "id": "fb3178d4-11bf-4fe6-b783-db71a0fa49da",
   "metadata": {},
   "outputs": [],
   "source": []
  },
  {
   "cell_type": "code",
   "execution_count": null,
   "id": "7977e09f-1703-4144-bd74-b96247ee3588",
   "metadata": {},
   "outputs": [],
   "source": []
  },
  {
   "cell_type": "code",
   "execution_count": null,
   "id": "154e1dd9-3cd2-499b-bc32-e0f12ef433c5",
   "metadata": {},
   "outputs": [],
   "source": []
  },
  {
   "cell_type": "code",
   "execution_count": null,
   "id": "c8742f99-30b3-4c27-817a-ae4eade81bce",
   "metadata": {},
   "outputs": [],
   "source": []
  },
  {
   "cell_type": "code",
   "execution_count": null,
   "id": "152780f0-b0da-499a-b25c-579f3b3a1bac",
   "metadata": {},
   "outputs": [],
   "source": []
  },
  {
   "cell_type": "code",
   "execution_count": null,
   "id": "3c166039-14a5-4e50-a032-a5b3b54c22f9",
   "metadata": {},
   "outputs": [],
   "source": []
  },
  {
   "cell_type": "code",
   "execution_count": null,
   "id": "6ab2bacc-cb72-4534-b8fc-480a812b9ed3",
   "metadata": {},
   "outputs": [],
   "source": []
  },
  {
   "cell_type": "code",
   "execution_count": null,
   "id": "3a9d417d-370f-415f-8af4-ec81fd942d68",
   "metadata": {},
   "outputs": [],
   "source": []
  },
  {
   "cell_type": "code",
   "execution_count": null,
   "id": "21bbb14b-d820-41e6-8345-7dbe181a3c72",
   "metadata": {},
   "outputs": [],
   "source": []
  },
  {
   "cell_type": "code",
   "execution_count": null,
   "id": "3cf2045e-45d4-49c1-9bed-228143b87e80",
   "metadata": {},
   "outputs": [],
   "source": []
  },
  {
   "cell_type": "code",
   "execution_count": null,
   "id": "54b95356-cfe8-4cec-8044-2911e5658a26",
   "metadata": {},
   "outputs": [],
   "source": []
  },
  {
   "cell_type": "code",
   "execution_count": null,
   "id": "2edd152a-e6a7-4cd1-a7c2-3d04bf40d2e8",
   "metadata": {},
   "outputs": [],
   "source": []
  },
  {
   "cell_type": "code",
   "execution_count": null,
   "id": "61c2072e-7778-45f7-abcc-e8a0478e6cd4",
   "metadata": {},
   "outputs": [],
   "source": []
  },
  {
   "cell_type": "code",
   "execution_count": null,
   "id": "922ca0f9-6dcd-40e4-9936-a55580ca2bbf",
   "metadata": {},
   "outputs": [],
   "source": []
  },
  {
   "cell_type": "code",
   "execution_count": null,
   "id": "32c6c3c4-cd90-459e-87c7-9989ff796636",
   "metadata": {},
   "outputs": [],
   "source": []
  },
  {
   "cell_type": "code",
   "execution_count": null,
   "id": "e04bf60f-82a1-469a-b36f-7cd8fe6605e2",
   "metadata": {},
   "outputs": [],
   "source": []
  },
  {
   "cell_type": "code",
   "execution_count": null,
   "id": "835cb77c-cfa8-438d-ac68-9535b7466ecc",
   "metadata": {},
   "outputs": [],
   "source": []
  },
  {
   "cell_type": "code",
   "execution_count": null,
   "id": "139bf61a-567c-4ba6-81e9-be9b4d4f5fa9",
   "metadata": {},
   "outputs": [],
   "source": []
  },
  {
   "cell_type": "code",
   "execution_count": null,
   "id": "86661f0c-4f49-42dd-b095-7769cf00c018",
   "metadata": {},
   "outputs": [],
   "source": []
  },
  {
   "cell_type": "code",
   "execution_count": null,
   "id": "ede9babc-7b7c-41f2-98ff-dfdf705c84ae",
   "metadata": {},
   "outputs": [],
   "source": []
  },
  {
   "cell_type": "code",
   "execution_count": null,
   "id": "5717adb6-01d3-4295-8d9b-53d05c6bee02",
   "metadata": {},
   "outputs": [],
   "source": []
  },
  {
   "cell_type": "code",
   "execution_count": null,
   "id": "0d20f997-e484-4c2b-9829-af26d4b76004",
   "metadata": {},
   "outputs": [],
   "source": []
  },
  {
   "cell_type": "code",
   "execution_count": null,
   "id": "118a7293-7af3-4e78-b862-fec6a4664f06",
   "metadata": {},
   "outputs": [],
   "source": []
  },
  {
   "cell_type": "code",
   "execution_count": null,
   "id": "d39eba9a-2b04-4f22-9df7-f7d14c3e5d19",
   "metadata": {},
   "outputs": [],
   "source": []
  },
  {
   "cell_type": "code",
   "execution_count": null,
   "id": "cb9a5004-9e32-4bfb-819b-236146a78f06",
   "metadata": {},
   "outputs": [],
   "source": []
  },
  {
   "cell_type": "code",
   "execution_count": null,
   "id": "9caa21cf-ccc4-41e7-8221-0052bff33d34",
   "metadata": {},
   "outputs": [],
   "source": []
  },
  {
   "cell_type": "code",
   "execution_count": null,
   "id": "d942a3e9-347d-4bc2-b39d-6ad6fe81fd89",
   "metadata": {},
   "outputs": [],
   "source": []
  }
 ],
 "metadata": {
  "kernelspec": {
   "display_name": "Python 3 (ipykernel)",
   "language": "python",
   "name": "python3"
  },
  "language_info": {
   "codemirror_mode": {
    "name": "ipython",
    "version": 3
   },
   "file_extension": ".py",
   "mimetype": "text/x-python",
   "name": "python",
   "nbconvert_exporter": "python",
   "pygments_lexer": "ipython3",
   "version": "3.11.0"
  }
 },
 "nbformat": 4,
 "nbformat_minor": 5
}
